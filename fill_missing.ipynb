{
 "cells": [
  {
   "cell_type": "code",
   "execution_count": 1,
   "id": "39f686ae",
   "metadata": {},
   "outputs": [],
   "source": [
    "import pandas as pd\n",
    "import os"
   ]
  },
  {
   "cell_type": "code",
   "execution_count": 2,
   "id": "ea55f9a4",
   "metadata": {},
   "outputs": [],
   "source": [
    "input_dir = \"data/raw/\"\n",
    "output_dir = \"data/processed/filled_missing/\"\n",
    "os.makedirs(output_dir, exist_ok=True)"
   ]
  },
  {
   "cell_type": "code",
   "execution_count": 10,
   "id": "873b274c",
   "metadata": {},
   "outputs": [
    {
     "name": "stdout",
     "output_type": "stream",
     "text": [
      "Saved filled file: Aurangabad_weather.xlsx\n",
      "Saved filled file: Gangapur_weather.xlsx\n",
      "Saved filled file: Kannad_weather.xlsx\n",
      "Saved filled file: Khuldabad_weather.xlsx\n",
      "Saved filled file: Paithan_weather.xlsx\n",
      "Saved filled file: Phulambri_weather.xlsx\n",
      "Saved filled file: Sillod_weather.xlsx\n",
      "Saved filled file: Soyagaon_weather.xlsx\n",
      "Saved filled file: Vaijapur_weather.xlsx\n"
     ]
    }
   ],
   "source": [
    "def process_file(file_path, output_path, use_resample=False):\n",
    "    excel = pd.ExcelFile(file_path)\n",
    "    writer = pd.ExcelWriter(output_path, engine='openpyxl')\n",
    "\n",
    "    for sheet in excel.sheet_names:\n",
    "        df = excel.parse(sheet)\n",
    "\n",
    "        # Ensure 'Date' is datetime for interpolation/resample\n",
    "        df['Date'] = pd.to_datetime(df['Date'])\n",
    "        df = df.sort_values('Date')\n",
    "        df.set_index('Date', inplace=True)\n",
    "\n",
    "        if use_resample:\n",
    "            # Monthly averaging\n",
    "            df = df.resample('M').mean(numeric_only=True)\n",
    "        else:\n",
    "            # Linear interpolation (axis=0: interpolate each column over time)\n",
    "            df = df.interpolate(method='linear', axis=0, limit_direction='both')\n",
    "\n",
    "        df.reset_index(inplace=True)\n",
    "        df.to_excel(writer, sheet_name=sheet, index=False)\n",
    "\n",
    "    writer._save()\n",
    "    print(f\"Saved filled file: {os.path.basename(file_path)}\")\n",
    "\n",
    "\n",
    "\n",
    "for filename in os.listdir(input_dir):\n",
    "    if filename.endswith(\".xlsx\"):\n",
    "        in_path = os.path.join(input_dir, filename)\n",
    "        out_path = os.path.join(output_dir, filename)\n",
    "\n",
    "        # Set use_resample=True to switch to monthly mean method\n",
    "        process_file(in_path, out_path, use_resample=False)\n"
   ]
  }
 ],
 "metadata": {
  "kernelspec": {
   "display_name": "Python 3",
   "language": "python",
   "name": "python3"
  },
  "language_info": {
   "codemirror_mode": {
    "name": "ipython",
    "version": 3
   },
   "file_extension": ".py",
   "mimetype": "text/x-python",
   "name": "python",
   "nbconvert_exporter": "python",
   "pygments_lexer": "ipython3",
   "version": "3.10.0"
  }
 },
 "nbformat": 4,
 "nbformat_minor": 5
}
