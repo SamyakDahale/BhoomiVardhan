{
 "cells": [
  {
   "cell_type": "code",
   "execution_count": 1,
   "id": "04452ce6",
   "metadata": {},
   "outputs": [],
   "source": [
    "# Cell 1: Imports and setup\n",
    "import pandas as pd\n",
    "import numpy as np\n",
    "import os\n",
    "from math import pi\n",
    "\n",
    "input_dir = \"data/processed/filled_missing/\"\n",
    "output_dir = \"data/processed/feature_engineered/\"\n",
    "os.makedirs(output_dir, exist_ok=True)\n"
   ]
  },
  {
   "cell_type": "code",
   "execution_count": 2,
   "id": "52a5be6e",
   "metadata": {},
   "outputs": [],
   "source": [
    "# Cell 2: Helper function to determine season\n",
    "def get_season(month):\n",
    "    if month in [12, 1, 2]:\n",
    "        return \"Winter\"\n",
    "    elif month in [3, 4, 5]:\n",
    "        return \"Summer\"\n",
    "    elif month in [6, 7, 8, 9]:\n",
    "        return \"Monsoon\"\n",
    "    else:\n",
    "        return \"Post-Monsoon\"\n"
   ]
  },
  {
   "cell_type": "code",
   "execution_count": 3,
   "id": "eee0f394",
   "metadata": {},
   "outputs": [
    {
     "name": "stdout",
     "output_type": "stream",
     "text": [
      "Features added and saved: Aurangabad_weather.xlsx\n",
      "Features added and saved: Gangapur_weather.xlsx\n",
      "Features added and saved: Kannad_weather.xlsx\n",
      "Features added and saved: Khuldabad_weather.xlsx\n",
      "Features added and saved: Paithan_weather.xlsx\n",
      "Features added and saved: Phulambri_weather.xlsx\n",
      "Features added and saved: Sillod_weather.xlsx\n",
      "Features added and saved: Soyagaon_weather.xlsx\n",
      "Features added and saved: Vaijapur_weather.xlsx\n"
     ]
    }
   ],
   "source": [
    "# Cell 3: Process all .xlsx files and add date-based + Fourier features\n",
    "for filename in os.listdir(input_dir):\n",
    "    if filename.endswith(\".xlsx\"):\n",
    "        in_path = os.path.join(input_dir, filename)\n",
    "        out_path = os.path.join(output_dir, filename)\n",
    "\n",
    "        excel = pd.ExcelFile(in_path)\n",
    "        writer = pd.ExcelWriter(out_path, engine='openpyxl')\n",
    "\n",
    "        for sheet in excel.sheet_names:\n",
    "            df = excel.parse(sheet)\n",
    "\n",
    "            # Ensure 'Date' is datetime\n",
    "            df['Date'] = pd.to_datetime(df['Date'])\n",
    "\n",
    "            # Extract date-based features\n",
    "            df['day'] = df['Date'].dt.day\n",
    "            df['month'] = df['Date'].dt.month\n",
    "            df['year'] = df['Date'].dt.year\n",
    "            df['day_of_year'] = df['Date'].dt.dayofyear\n",
    "            df['season'] = df['month'].apply(get_season)\n",
    "\n",
    "            # Add Fourier features for seasonality\n",
    "            df['sin_day'] = np.sin(2 * pi * df['day_of_year'] / 365.25)\n",
    "            df['cos_day'] = np.cos(2 * pi * df['day_of_year'] / 365.25)\n",
    "\n",
    "            # Write to new Excel\n",
    "            df.to_excel(writer, sheet_name=sheet, index=False)\n",
    "\n",
    "        writer._save()\n",
    "        print(f\"Features added and saved: {filename}\")\n"
   ]
  },
  {
   "cell_type": "code",
   "execution_count": 4,
   "id": "95124ce4",
   "metadata": {},
   "outputs": [
    {
     "name": "stdout",
     "output_type": "stream",
     "text": [
      "[OK] Encoded 'season' in: Aurangabad_weather.xlsx\n",
      "[OK] Encoded 'season' in: Gangapur_weather.xlsx\n",
      "[OK] Encoded 'season' in: Kannad_weather.xlsx\n",
      "[OK] Encoded 'season' in: Khuldabad_weather.xlsx\n",
      "[OK] Encoded 'season' in: Paithan_weather.xlsx\n",
      "[OK] Encoded 'season' in: Phulambri_weather.xlsx\n",
      "[OK] Encoded 'season' in: Sillod_weather.xlsx\n",
      "[OK] Encoded 'season' in: Soyagaon_weather.xlsx\n",
      "[OK] Encoded 'season' in: Vaijapur_weather.xlsx\n"
     ]
    }
   ],
   "source": [
    "from sklearn.preprocessing import LabelEncoder\n",
    "import pandas as pd\n",
    "import os\n",
    "\n",
    "input_dir = \"data/processed/feature_engineered/\"\n",
    "\n",
    "# Initialize encoder\n",
    "le = LabelEncoder()\n",
    "le.fit(['Winter', 'Summer', 'Monsoon', 'Post-Monsoon'])\n",
    "\n",
    "for filename in os.listdir(input_dir):\n",
    "    if filename.endswith(\".xlsx\"):\n",
    "        file_path = os.path.join(input_dir, filename)\n",
    "        \n",
    "        # Read all sheets at once into a dictionary\n",
    "        try:\n",
    "            sheets_dict = pd.read_excel(file_path, sheet_name=None)\n",
    "        except Exception as e:\n",
    "            print(f\"[ERROR] Could not read {filename}: {e}\")\n",
    "            continue\n",
    "        \n",
    "        # Apply label encoding to season column\n",
    "        for sheet_name, df in sheets_dict.items():\n",
    "            if 'season' in df.columns:\n",
    "                df['season_id'] = le.transform(df['season'])\n",
    "                sheets_dict[sheet_name] = df  # update sheet\n",
    "\n",
    "        # Save updated sheets back to same file\n",
    "        try:\n",
    "            with pd.ExcelWriter(file_path, engine='openpyxl', mode='w') as writer:\n",
    "                for sheet_name, df in sheets_dict.items():\n",
    "                    df.to_excel(writer, sheet_name=sheet_name, index=False)\n",
    "            print(f\"Encoded 'season' in: {filename}\")\n",
    "        except Exception as e:\n",
    "            print(f\"[ERROR] Could not write {filename}: {e}\")\n"
   ]
  }
 ],
 "metadata": {
  "kernelspec": {
   "display_name": "Python 3",
   "language": "python",
   "name": "python3"
  },
  "language_info": {
   "codemirror_mode": {
    "name": "ipython",
    "version": 3
   },
   "file_extension": ".py",
   "mimetype": "text/x-python",
   "name": "python",
   "nbconvert_exporter": "python",
   "pygments_lexer": "ipython3",
   "version": "3.10.0"
  }
 },
 "nbformat": 4,
 "nbformat_minor": 5
}
