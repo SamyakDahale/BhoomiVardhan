{
 "cells": [
  {
   "cell_type": "code",
   "execution_count": null,
   "id": "e9202f8e",
   "metadata": {},
   "outputs": [],
   "source": [
    "import joblib\n",
    "import pandas as pd\n",
    "import numpy as np\n",
    "from math import pi"
   ]
  },
  {
   "cell_type": "code",
   "execution_count": 8,
   "id": "a08eca32",
   "metadata": {},
   "outputs": [],
   "source": [
    "# Sample date input\n",
    "input_date = pd.to_datetime(\"2025-07-14\")\n",
    "tehsil = \"Kannad\""
   ]
  },
  {
   "cell_type": "code",
   "execution_count": null,
   "id": "be8b088b",
   "metadata": {},
   "outputs": [],
   "source": [
    "day = input_date.day\n",
    "month = input_date.month\n",
    "day_of_year = input_date.dayofyear\n",
    "sin_day = np.sin(2 * pi * day_of_year / 365.25)\n",
    "cos_day = np.cos(2 * pi * day_of_year / 365.25)"
   ]
  },
  {
   "cell_type": "code",
   "execution_count": 10,
   "id": "d9b2ec8a",
   "metadata": {},
   "outputs": [],
   "source": [
    "season_id = {'Winter': 3, 'Summer': 2, 'Monsoon': 1, 'Post-Monsoon': 0}[{\n",
    "    12: 'Winter', 1: 'Winter', 2: 'Winter',\n",
    "    3: 'Summer', 4: 'Summer', 5: 'Summer',\n",
    "    6: 'Monsoon', 7: 'Monsoon', 8: 'Monsoon', 9: 'Monsoon',\n",
    "    10: 'Post-Monsoon', 11: 'Post-Monsoon'\n",
    "}[month]]"
   ]
  },
  {
   "cell_type": "code",
   "execution_count": 11,
   "id": "d5493e55",
   "metadata": {},
   "outputs": [],
   "source": [
    "X_input = pd.DataFrame([{\n",
    "    'day': day, 'month': month, \n",
    "    'day_of_year': day_of_year, 'sin_day': sin_day,\n",
    "    'cos_day': cos_day, 'season_id': season_id\n",
    "}])"
   ]
  },
  {
   "cell_type": "code",
   "execution_count": null,
   "id": "f5560cc7",
   "metadata": {},
   "outputs": [],
   "source": [
    "model = joblib.load(f\"models/{tehsil}_weather_model.pkl\")\n"
   ]
  },
  {
   "cell_type": "code",
   "execution_count": 12,
   "id": "d9446615",
   "metadata": {},
   "outputs": [],
   "source": [
    "prediction = model.predict(X_input)[0]"
   ]
  },
  {
   "cell_type": "code",
   "execution_count": 13,
   "id": "1f09d980",
   "metadata": {},
   "outputs": [
    {
     "name": "stdout",
     "output_type": "stream",
     "text": [
      "Weather forecast for Kannad on 2025-07-14:\n",
      "Rainfall_mm: 0.81\n",
      "MinTemp_C: 25.29\n",
      "MaxTemp_C: 29.57\n",
      "Humidity_pct: 72.90\n",
      "Wind_kmph: 20.80\n",
      "Pressure_hPa: 1019.15\n"
     ]
    }
   ],
   "source": [
    "print(f\"Weather forecast for {tehsil} on {input_date.date()}:\")\n",
    "for name, value in zip(['Rainfall_mm', 'MinTemp_C', 'MaxTemp_C', 'Humidity_pct', 'Wind_kmph', 'Pressure_hPa'], prediction):\n",
    "    print(f\"{name}: {value:.2f}\")"
   ]
  }
 ],
 "metadata": {
  "kernelspec": {
   "display_name": "Python 3",
   "language": "python",
   "name": "python3"
  },
  "language_info": {
   "codemirror_mode": {
    "name": "ipython",
    "version": 3
   },
   "file_extension": ".py",
   "mimetype": "text/x-python",
   "name": "python",
   "nbconvert_exporter": "python",
   "pygments_lexer": "ipython3",
   "version": "3.10.0"
  }
 },
 "nbformat": 4,
 "nbformat_minor": 5
}
