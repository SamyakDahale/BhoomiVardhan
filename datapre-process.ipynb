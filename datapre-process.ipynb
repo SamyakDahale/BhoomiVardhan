{
 "cells": [
  {
   "cell_type": "code",
   "execution_count": 2,
   "id": "a40c322f",
   "metadata": {},
   "outputs": [],
   "source": [
    "import pandas as pd \n",
    "import numpy as np"
   ]
  },
  {
   "cell_type": "code",
   "execution_count": 17,
   "id": "4ea7d3c2",
   "metadata": {},
   "outputs": [],
   "source": [
    "df= pd.read_excel(r\"BhoomiVardhan/Kannad_weather.xlsx\")"
   ]
  },
  {
   "cell_type": "code",
   "execution_count": 18,
   "id": "1a041187",
   "metadata": {},
   "outputs": [
    {
     "name": "stdout",
     "output_type": "stream",
     "text": [
      "<class 'pandas.core.frame.DataFrame'>\n",
      "RangeIndex: 365 entries, 0 to 364\n",
      "Data columns (total 7 columns):\n",
      " #   Column        Non-Null Count  Dtype  \n",
      "---  ------        --------------  -----  \n",
      " 0   Date          365 non-null    object \n",
      " 1   Rainfall_mm   361 non-null    float64\n",
      " 2   MinTemp_C     358 non-null    float64\n",
      " 3   MaxTemp_C     365 non-null    float64\n",
      " 4   Humidity_pct  363 non-null    float64\n",
      " 5   Wind_kmph     362 non-null    float64\n",
      " 6   Pressure_hPa  359 non-null    float64\n",
      "dtypes: float64(6), object(1)\n",
      "memory usage: 20.1+ KB\n"
     ]
    }
   ],
   "source": [
    "df.info()"
   ]
  },
  {
   "cell_type": "code",
   "execution_count": 19,
   "id": "8f129b0b",
   "metadata": {},
   "outputs": [
    {
     "data": {
      "text/plain": [
       "Humidity_pct    2\n",
       "MinTemp_C       7\n",
       "dtype: int64"
      ]
     },
     "execution_count": 19,
     "metadata": {},
     "output_type": "execute_result"
    }
   ],
   "source": [
    "df[['Humidity_pct', 'MinTemp_C']].isnull().sum()"
   ]
  },
  {
   "cell_type": "code",
   "execution_count": null,
   "id": "3d70eb02",
   "metadata": {},
   "outputs": [],
   "source": []
  }
 ],
 "metadata": {
  "kernelspec": {
   "display_name": "Python 3",
   "language": "python",
   "name": "python3"
  },
  "language_info": {
   "codemirror_mode": {
    "name": "ipython",
    "version": 3
   },
   "file_extension": ".py",
   "mimetype": "text/x-python",
   "name": "python",
   "nbconvert_exporter": "python",
   "pygments_lexer": "ipython3",
   "version": "3.10.0"
  }
 },
 "nbformat": 4,
 "nbformat_minor": 5
}
