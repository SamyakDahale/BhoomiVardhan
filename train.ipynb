{
 "cells": [
  {
   "cell_type": "code",
   "execution_count": null,
   "id": "ea816430",
   "metadata": {},
   "outputs": [],
   "source": [
    "import pandas as pd\n",
    "import numpy as np\n",
    "import os\n",
    "import joblib\n",
    "from sklearn.ensemble import RandomForestRegressor\n",
    "from sklearn.multioutput import MultiOutputRegressor"
   ]
  },
  {
   "cell_type": "code",
   "execution_count": null,
   "id": "dbd75127",
   "metadata": {},
   "outputs": [],
   "source": [
    "input_dir = \"data/processed/feature_engineered/\"\n",
    "model_dir = \"models/\"\n",
    "os.makedirs(model_dir, exist_ok=True)"
   ]
  },
  {
   "cell_type": "code",
   "execution_count": null,
   "id": "7e93fa77",
   "metadata": {},
   "outputs": [],
   "source": [
    "features = ['day', 'month', 'day_of_year', 'sin_day', 'cos_day', 'season_id']\n",
    "targets = ['Rainfall_mm', 'MinTemp_C', 'MaxTemp_C', 'Humidity_pct', 'Wind_kmph', 'Pressure_hPa']"
   ]
  },
  {
   "cell_type": "code",
   "execution_count": null,
   "id": "d0aa4430",
   "metadata": {},
   "outputs": [],
   "source": [
    "for filename in os.listdir(input_dir):\n",
    "    if filename.endswith(\".xlsx\"):\n",
    "        tehsil = filename.split('_')[0]\n",
    "        excel = pd.read_excel(os.path.join(input_dir, filename), sheet_name=None)\n",
    "        \n",
    "        df_all_years = pd.concat(excel.values(), ignore_index=True)\n",
    "\n",
    "        df_all_years.dropna(subset=features + targets, inplace=True)\n",
    "\n",
    "        # Time-based split\n",
    "        train = df_all_years[df_all_years['year'] < 2024]\n",
    "        test = df_all_years[df_all_years['year'] == 2024]\n",
    "\n",
    "        X_train = train[features]\n",
    "        y_train = train[targets]\n",
    "\n",
    "        # Initialize multi-target RF\n",
    "        rf = MultiOutputRegressor(RandomForestRegressor(n_estimators=200, random_state=42))\n",
    "        rf.fit(X_train, y_train)\n",
    "\n",
    "        # Save model\n",
    "        joblib.dump(rf, os.path.join(model_dir, f\"{tehsil}_weather_model.pkl\"))\n",
    "        print(f\"Model trained & saved: {tehsil}_weather_model.pkl\")"
   ]
  }
 ],
 "metadata": {
  "kernelspec": {
   "display_name": "Python 3",
   "language": "python",
   "name": "python3"
  },
  "language_info": {
   "codemirror_mode": {
    "name": "ipython",
    "version": 3
   },
   "file_extension": ".py",
   "mimetype": "text/x-python",
   "name": "python",
   "nbconvert_exporter": "python",
   "pygments_lexer": "ipython3",
   "version": "3.10.0"
  }
 },
 "nbformat": 4,
 "nbformat_minor": 5
}
